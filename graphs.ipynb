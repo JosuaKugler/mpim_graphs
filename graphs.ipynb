{
 "cells": [
  {
   "cell_type": "code",
   "execution_count": 37,
   "metadata": {},
   "outputs": [],
   "source": [
    "import networkx as nx\n",
    "import matplotlib.pyplot as plt\n",
    "from networkx.drawing.nx_pydot import write_dot\n",
    "import networkx.algorithms.isomorphism as iso\n",
    "\n",
    "\n",
    "def raw_possibilities_with_one_more_loop(G):\n",
    "    n = G.number_of_nodes()\n",
    "    G.add_nodes_from([\n",
    "        (n, {\"color\":\"blue\"}),\n",
    "        (n+1, {\"color\":\"blue\"})\n",
    "    ])\n",
    "    solutions = []\n",
    "    for edge in G.edges:\n",
    "        G_new = nx.MultiGraph()\n",
    "        G_new.add_nodes_from(G.nodes(data=True))\n",
    "        G_new.add_edges_from(G.edges)\n",
    "        G_new.add_edges_from([\n",
    "            (edge[0], n),\n",
    "            (n, n+1),\n",
    "            (n, n+1),\n",
    "            (n+1, edge[1])\n",
    "        ])\n",
    "        G_new.remove_edge(edge[0], edge[1])\n",
    "        solutions.append(G_new)\n",
    "    return solutions\n",
    "    \n",
    "def eliminate_isomorphic_solutions(solutions):\n",
    "    \"\"\"\n",
    "    creates a list with all graphs from solutions that are not isomorphic via is_feynman_isomorphic\n",
    "    \"\"\"\n",
    "    new_solutions = solutions[:1]\n",
    "    for sol in solutions[1:]:\n",
    "        append = True\n",
    "        for ref_sol in new_solutions:\n",
    "            if is_feynman_isomorpic(sol, ref_sol):\n",
    "                append = False\n",
    "        if append:\n",
    "            new_solutions.append(sol)\n",
    "    return new_solutions\n",
    "    \n",
    "def is_feynman_isomorpic(G1, G2):\n",
    "    nm = iso.categorical_node_match(\"color\", \"blue\")\n",
    "    return nx.is_isomorphic(G1, G2, node_match=nm)\n",
    "\n",
    "def add_loop(graphs_before):\n",
    "    solutions = []\n",
    "    for graph in graphs_before:\n",
    "        for new_graph in raw_possibilities_with_one_more_loop(graph):\n",
    "            solutions.append(new_graph)\n",
    "    return eliminate_isomorphic_solutions(solutions)\n"
   ]
  },
  {
   "cell_type": "code",
   "execution_count": 40,
   "metadata": {},
   "outputs": [
    {
     "name": "stdout",
     "output_type": "stream",
     "text": [
      "[(0, 6, 0), (1, 3, 0), (2, 3, 0), (2, 3, 1), (2, 5, 0), (4, 5, 0), (4, 5, 1), (4, 7, 0), (6, 7, 0), (6, 7, 1)]\n",
      "[(0, 4, 0), (1, 3, 0), (2, 3, 0), (2, 5, 0), (2, 6, 0), (3, 7, 0), (4, 5, 0), (4, 5, 1), (6, 7, 0), (6, 7, 1)]\n",
      "[(0, 4, 0), (1, 3, 0), (2, 3, 0), (2, 3, 1), (2, 5, 0), (4, 5, 0), (4, 6, 0), (5, 7, 0), (6, 7, 0), (6, 7, 1)]\n",
      "[(0, 2, 0), (1, 3, 0), (2, 4, 0), (2, 6, 0), (3, 5, 0), (3, 7, 0), (4, 5, 0), (4, 5, 1), (6, 7, 0), (6, 7, 1)]\n",
      "[(0, 2, 0), (1, 3, 0), (2, 3, 0), (2, 6, 0), (3, 5, 0), (4, 5, 0), (4, 5, 1), (4, 7, 0), (6, 7, 0), (6, 7, 1)]\n",
      "[(0, 2, 0), (1, 3, 0), (2, 3, 0), (2, 4, 0), (3, 5, 0), (4, 5, 0), (4, 6, 0), (5, 7, 0), (6, 7, 0), (6, 7, 1)]\n"
     ]
    }
   ],
   "source": [
    "G0 = nx.MultiGraph()\n",
    "G0.add_nodes_from([\n",
    "    (0, {\"color\":\"red\"}),\n",
    "    (1, {\"color\":\"green\"})\n",
    "])\n",
    "G0.add_edge(0,1)\n",
    "\n",
    "\n",
    "solutions = raw_possibilities_with_one_more_loop(G0)\n",
    "G1 = solutions[0]\n",
    "solutions = add_loop(solutions)\n",
    "solutions = add_loop(solutions)\n",
    "for i, sol in enumerate(solutions):\n",
    "    print(sol.edges)\n",
    "    write_dot(sol, f'visualization/graph{i}.dot')"
   ]
  },
  {
   "cell_type": "code",
   "execution_count": 39,
   "metadata": {},
   "outputs": [],
   "source": [
    "import os\n",
    "for filename in os.listdir('visualization'):\n",
    "    if filename[-4:] == \".dot\":\n",
    "        newfilename = filename[:-4] + '.png'\n",
    "        os.system(f'neato -T png visualization/{filename} > visualization/{newfilename}')"
   ]
  },
  {
   "cell_type": "markdown",
   "metadata": {},
   "source": [
    "Wie wächst die Anzahl an Graphen mit der Anzahl der Löcher? schneller oder langsamer als exponentiell?\n",
    "Graph: \n",
    "- 2-verbunden\n",
    "- ungerichtet\n",
    "- muss nicht planar sein\n",
    "- 3-regulär (jeder Knoten hat 3 Kanten)\n",
    "- feste Anzahl an Halbkanten"
   ]
  },
  {
   "cell_type": "markdown",
   "metadata": {},
   "source": [
    "Inzwischen können wir die Anzahl der einfachen 3-regulären Graphen für n Knoten asymptotisch abschätzen.\n",
    "Durch Aufschneiden eines Knotens bekommen wir höchstens 6 verschiedene Feynman-Diagramme.\n",
    "Da die Automorphismengruppe asymptotisch trivial ist, erhalten wir also eine asymptotische obere Schranke für die Anzahl der drei-regulären zusammenhängenden Feynman-Diagramme. Nun müssen wir noch die zwei-Verbundenheit testen bzw. ermitteln, wie sich das auf die asymptotische Verteilung auswirkt."
   ]
  },
  {
   "cell_type": "markdown",
   "metadata": {},
   "source": [
    "Aus https://www.sciencedirect.com/science/article/pii/0097316578900596 erhalten wir eine Abschätzung für die Anzahl der k-valenten Graphen.\n",
    "Es muss nun noch geklärt werden, wie sich diese Anzahl verändert, wenn wir nur die 2-zusammenhängenden Graphen betrachten. \n",
    "Aus https://web.williams.edu/Mathematics/sjmiller/public_html/ntprob13/handouts/graphs/Womald_ModelsRandomGraphs.pdf, \n",
    "Abschnitt 2.6 folgt, dass die Graphen asymptotisch fast alle mindestens 2-connected sind."
   ]
  },
  {
   "cell_type": "markdown",
   "metadata": {},
   "source": [
    "Interessantes paper, was ähnliche Dinge macht wie wir auch: https://arxiv.org/pdf/2305.13506.pdf"
   ]
  }
 ],
 "metadata": {
  "kernelspec": {
   "display_name": "Python 3",
   "language": "python",
   "name": "python3"
  },
  "language_info": {
   "codemirror_mode": {
    "name": "ipython",
    "version": 3
   },
   "file_extension": ".py",
   "mimetype": "text/x-python",
   "name": "python",
   "nbconvert_exporter": "python",
   "pygments_lexer": "ipython3",
   "version": "3.10.12"
  },
  "orig_nbformat": 4
 },
 "nbformat": 4,
 "nbformat_minor": 2
}
