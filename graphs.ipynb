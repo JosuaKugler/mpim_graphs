{
 "cells": [
  {
   "cell_type": "markdown",
   "metadata": {},
   "source": [
    "Wie wächst die Anzahl an Graphen mit der Anzahl der Löcher? schneller oder langsamer als exponentiell?\n",
    "Graph: \n",
    "- 2-verbunden\n",
    "- ungerichtet\n",
    "- muss nicht planar sein\n",
    "- 3-regulär (jeder Knoten hat 3 Kanten)\n",
    "- feste Anzahl an Halbkanten"
   ]
  },
  {
   "cell_type": "markdown",
   "metadata": {},
   "source": [
    "Inzwischen können wir die Anzahl der einfachen 3-regulären Graphen für n Knoten asymptotisch abschätzen.\n",
    "Durch Aufschneiden eines Knotens bekommen wir höchstens 6 verschiedene Feynman-Diagramme.\n",
    "Da die Automorphismengruppe asymptotisch trivial ist, erhalten wir also eine asymptotische obere Schranke für die Anzahl der drei-regulären zusammenhängenden Feynman-Diagramme. Nun müssen wir noch die zwei-Verbundenheit testen bzw. ermitteln, wie sich das auf die asymptotische Verteilung auswirkt."
   ]
  },
  {
   "cell_type": "markdown",
   "metadata": {},
   "source": [
    "Aus https://www.sciencedirect.com/science/article/pii/0097316578900596 erhalten wir eine Abschätzung für die Anzahl der k-valenten Graphen.\n",
    "Es muss nun noch geklärt werden, wie sich diese Anzahl verändert, wenn wir nur die 2-zusammenhängenden Graphen betrachten. \n",
    "Aus https://web.williams.edu/Mathematics/sjmiller/public_html/ntprob13/handouts/graphs/Womald_ModelsRandomGraphs.pdf, \n",
    "Abschnitt 2.6 folgt, dass die Graphen asymptotisch fast alle mindestens 2-connected sind."
   ]
  },
  {
   "cell_type": "markdown",
   "metadata": {},
   "source": [
    "Interessantes paper, was ähnliche Dinge macht wie wir auch: https://arxiv.org/pdf/2305.13506.pdf"
   ]
  },
  {
   "cell_type": "markdown",
   "metadata": {},
   "source": [
    "Feynman-Euler-Formel: $L - I + V = 1$ gilt auch für nicht-planare Feynmandiagramme.\n",
    "Dabei bezeichnet $L$ die Anzahl der loops, $I$ die Anzahl der inneren Kanten und $V$ die Anzahl der Knoten (siehe https://physics.stackexchange.com/a/176463 für eine mathematische Argumentation oder die Antwort darunter für ein Argument basierend auf Impulserhaltung)."
   ]
  }
 ],
 "metadata": {
  "kernelspec": {
   "display_name": "Python 3",
   "language": "python",
   "name": "python3"
  },
  "language_info": {
   "codemirror_mode": {
    "name": "ipython",
    "version": 3
   },
   "file_extension": ".py",
   "mimetype": "text/x-python",
   "name": "python",
   "nbconvert_exporter": "python",
   "pygments_lexer": "ipython3",
   "version": "3.10.12"
  },
  "orig_nbformat": 4
 },
 "nbformat": 4,
 "nbformat_minor": 2
}
